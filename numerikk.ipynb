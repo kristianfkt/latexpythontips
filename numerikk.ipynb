{
 "cells": [
  {
   "cell_type": "markdown",
   "metadata": {},
   "source": [
    "Sometimes, scipy.optimize.root does not perform well enough, or you simply want a jacobian function"
   ]
  },
  {
   "cell_type": "code",
   "execution_count": 26,
   "metadata": {},
   "outputs": [
    {
     "data": {
      "text/plain": [
       "array([0., 0., 0., 0., 0., 0., 0., 0., 0., 0., 0., 0., 0., 0., 0., 0., 0.,\n",
       "       0., 0., 0., 0., 0.])"
      ]
     },
     "execution_count": 26,
     "metadata": {},
     "output_type": "execute_result"
    }
   ],
   "source": [
    "import numpy as np\n",
    "\n",
    "def myfunc(x):\n",
    "    rows,cols = x.shape\n",
    "    eqs = np.zeros((rows,cols))\n",
    "    eqs[:,0]    = x[:,2]-x[:,0]\n",
    "    eqs[:,1:-1] = x[:,2::]+x[:,0:-2]-2*x[:,1:-1]\n",
    "    eqs[:,-1]   = x[:,-1]-x[:,-3]\n",
    "    return eqs\n",
    "\n",
    "def jacobian(func, x0, delta=1e-6):\n",
    "    \"\"\"\n",
    "    supports funcions of 1, 2 or 3 dimensions\n",
    "    \"\"\"\n",
    "    ndims = x0.ndim\n",
    "    jacs = {\n",
    "        1:__1djac__,\n",
    "        2:__2djac__,\n",
    "        3:__3djac__\n",
    "    }\n",
    "    return jacs[ndims](func, x0, delta=delta)\n",
    "\n",
    "def __1djac__(func,x0, delta=1e-6):\n",
    "    I = x0.shape\n",
    "    return\n",
    "\n",
    "def __2djac__(func,x0, delta=1e-6):\n",
    "    I,J= x0.shape\n",
    "    jac = np.zeros((I*J, I*J))\n",
    "\n",
    "    if I>=J:\n",
    "        pass\n",
    "    elif I<J:\n",
    "        pass\n",
    "\n",
    "\n",
    "    dx  = np.array([np.eye(J)*delta for i in range(I)])\n",
    "    for i in range(I):\n",
    "        for j in range(J):\n",
    "            jac[:, J*i] = (func(x+dx[i,j,:]) - func(x-dx[i,j,:])).ravel()/2/delta\n",
    "    return jac\n",
    "\n",
    "def __3djac__(func,x0, delta=1e-6):\n",
    "    I,J,K=x0.shape\n",
    "    return        \n",
    "\n",
    "x = np.random.random((2,11))\n",
    "jacobian(myfunc, x)[3,:]"
   ]
  },
  {
   "cell_type": "code",
   "execution_count": null,
   "metadata": {},
   "outputs": [],
   "source": []
  },
  {
   "cell_type": "code",
   "execution_count": null,
   "metadata": {},
   "outputs": [],
   "source": []
  }
 ],
 "metadata": {
  "interpreter": {
   "hash": "3830c8951b96ab4026e45542b0cc86545a991a8254497dc09800caea8d2bfddf"
  },
  "kernelspec": {
   "display_name": "Python 3.7.11 ('base')",
   "language": "python",
   "name": "python3"
  },
  "language_info": {
   "codemirror_mode": {
    "name": "ipython",
    "version": 3
   },
   "file_extension": ".py",
   "mimetype": "text/x-python",
   "name": "python",
   "nbconvert_exporter": "python",
   "pygments_lexer": "ipython3",
   "version": "3.7.11"
  },
  "orig_nbformat": 4
 },
 "nbformat": 4,
 "nbformat_minor": 2
}
