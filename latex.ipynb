{
 "cells": [
  {
   "cell_type": "markdown",
   "metadata": {},
   "source": [
    "# LaTeX kode\n",
    "Du kan normalt skrive $\\LaTeX$-kode, slikt som $\\mu$ i aksetitlerog slikt. Du kan og definere matplotlib til å generere alt av tekst med $\\LaTeX$, slik at fonter og alt blir helt likt med avhandling. Da kan du og bruke pakker som siunitx og mhchem i teksten din"
   ]
  },
  {
   "cell_type": "markdown",
   "metadata": {},
   "source": []
  }
 ],
 "metadata": {
  "language_info": {
   "name": "python"
  },
  "orig_nbformat": 4
 },
 "nbformat": 4,
 "nbformat_minor": 2
}
