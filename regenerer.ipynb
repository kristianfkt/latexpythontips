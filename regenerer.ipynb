{
 "cells": [
  {
   "cell_type": "markdown",
   "metadata": {},
   "source": [
    "# Kjøre alle script på nytt\n",
    "Typisk vil en avhandling inneholder ganske mange scripts. Trenger du å gjøre liten endring på alle sammen er det kjedelig å måtte kjøre de på nytt.\n",
    "Scriptene kan og kjøres parallelt, men det har noe overhead, så er ikke nødvendigvis noe poeng. Dette KAN gå galt om mange scripts genererer eller leser store mengder data (~GB). La inn snacksy progress bars. "
   ]
  },
  {
   "cell_type": "code",
   "execution_count": 1,
   "metadata": {},
   "outputs": [
    {
     "name": "stderr",
     "output_type": "stream",
     "text": [
      "Calling scripts: 100%|██████████| 9/9 [00:19<00:00,  2.14s/it]\n"
     ]
    }
   ],
   "source": [
    "import mypackage.tools\n",
    "mypackage.tools.rerun('./scripts/', parallel=False, progress=True)\n"
   ]
  },
  {
   "cell_type": "code",
   "execution_count": null,
   "metadata": {},
   "outputs": [],
   "source": []
  }
 ],
 "metadata": {
  "interpreter": {
   "hash": "3830c8951b96ab4026e45542b0cc86545a991a8254497dc09800caea8d2bfddf"
  },
  "kernelspec": {
   "display_name": "Python 3.7.11 ('base')",
   "language": "python",
   "name": "python3"
  },
  "language_info": {
   "codemirror_mode": {
    "name": "ipython",
    "version": 3
   },
   "file_extension": ".py",
   "mimetype": "text/x-python",
   "name": "python",
   "nbconvert_exporter": "python",
   "pygments_lexer": "ipython3",
   "version": "3.7.11"
  },
  "orig_nbformat": 4
 },
 "nbformat": 4,
 "nbformat_minor": 2
}
